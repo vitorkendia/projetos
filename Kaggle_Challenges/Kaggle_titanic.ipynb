{
 "cells": [
  {
   "cell_type": "markdown",
   "metadata": {},
   "source": [
    "## Titanic Dataset Analysis from Kaggle\n",
    "data : [link to titanic dataset at Kaggle](https://www.kaggle.com/competitions/titanic/data?select=test.csv)"
   ]
  },
  {
   "cell_type": "markdown",
   "metadata": {},
   "source": [
    "## Objective: Predict if the person will survive or not on the Titanic"
   ]
  },
  {
   "cell_type": "markdown",
   "metadata": {},
   "source": [
    "## Overview"
   ]
  },
  {
   "cell_type": "markdown",
   "metadata": {},
   "source": [
    "1) Feature treatment\n",
    "\n",
    "2) Exploratory data analysis(EDA)\n",
    "\n",
    "3) Feature Engineering\n",
    "\n",
    "4) NaN values treat\n",
    "\n",
    "5) Baseline model\n",
    "\n",
    "6) Tuning models Hyperparameters\n",
    "\n",
    "7) Ensemble models\n",
    "\n",
    "8) Result"
   ]
  },
  {
   "cell_type": "code",
   "execution_count": 1,
   "metadata": {},
   "outputs": [],
   "source": [
    "import pandas as pd"
   ]
  },
  {
   "cell_type": "code",
   "execution_count": 2,
   "metadata": {},
   "outputs": [],
   "source": [
    "## Dataset Reading\n",
    "train_data = pd.read_csv('../kaggle_datasets/titanic_train.csv')\n",
    "test_data = pd.read_csv('../kaggle_datasets/titanic_test.csv')"
   ]
  },
  {
   "cell_type": "markdown",
   "metadata": {},
   "source": [
    "## Verifying data"
   ]
  },
  {
   "cell_type": "code",
   "execution_count": 3,
   "metadata": {},
   "outputs": [
    {
     "data": {
      "text/html": [
       "<div>\n",
       "<style scoped>\n",
       "    .dataframe tbody tr th:only-of-type {\n",
       "        vertical-align: middle;\n",
       "    }\n",
       "\n",
       "    .dataframe tbody tr th {\n",
       "        vertical-align: top;\n",
       "    }\n",
       "\n",
       "    .dataframe thead th {\n",
       "        text-align: right;\n",
       "    }\n",
       "</style>\n",
       "<table border=\"1\" class=\"dataframe\">\n",
       "  <thead>\n",
       "    <tr style=\"text-align: right;\">\n",
       "      <th></th>\n",
       "      <th>PassengerId</th>\n",
       "      <th>Survived</th>\n",
       "      <th>Pclass</th>\n",
       "      <th>Name</th>\n",
       "      <th>Sex</th>\n",
       "      <th>Age</th>\n",
       "      <th>SibSp</th>\n",
       "      <th>Parch</th>\n",
       "      <th>Ticket</th>\n",
       "      <th>Fare</th>\n",
       "      <th>Cabin</th>\n",
       "      <th>Embarked</th>\n",
       "    </tr>\n",
       "  </thead>\n",
       "  <tbody>\n",
       "    <tr>\n",
       "      <th>0</th>\n",
       "      <td>1</td>\n",
       "      <td>0</td>\n",
       "      <td>3</td>\n",
       "      <td>Braund, Mr. Owen Harris</td>\n",
       "      <td>male</td>\n",
       "      <td>22.0</td>\n",
       "      <td>1</td>\n",
       "      <td>0</td>\n",
       "      <td>A/5 21171</td>\n",
       "      <td>7.2500</td>\n",
       "      <td>NaN</td>\n",
       "      <td>S</td>\n",
       "    </tr>\n",
       "    <tr>\n",
       "      <th>1</th>\n",
       "      <td>2</td>\n",
       "      <td>1</td>\n",
       "      <td>1</td>\n",
       "      <td>Cumings, Mrs. John Bradley (Florence Briggs Th...</td>\n",
       "      <td>female</td>\n",
       "      <td>38.0</td>\n",
       "      <td>1</td>\n",
       "      <td>0</td>\n",
       "      <td>PC 17599</td>\n",
       "      <td>71.2833</td>\n",
       "      <td>C85</td>\n",
       "      <td>C</td>\n",
       "    </tr>\n",
       "    <tr>\n",
       "      <th>2</th>\n",
       "      <td>3</td>\n",
       "      <td>1</td>\n",
       "      <td>3</td>\n",
       "      <td>Heikkinen, Miss. Laina</td>\n",
       "      <td>female</td>\n",
       "      <td>26.0</td>\n",
       "      <td>0</td>\n",
       "      <td>0</td>\n",
       "      <td>STON/O2. 3101282</td>\n",
       "      <td>7.9250</td>\n",
       "      <td>NaN</td>\n",
       "      <td>S</td>\n",
       "    </tr>\n",
       "    <tr>\n",
       "      <th>3</th>\n",
       "      <td>4</td>\n",
       "      <td>1</td>\n",
       "      <td>1</td>\n",
       "      <td>Futrelle, Mrs. Jacques Heath (Lily May Peel)</td>\n",
       "      <td>female</td>\n",
       "      <td>35.0</td>\n",
       "      <td>1</td>\n",
       "      <td>0</td>\n",
       "      <td>113803</td>\n",
       "      <td>53.1000</td>\n",
       "      <td>C123</td>\n",
       "      <td>S</td>\n",
       "    </tr>\n",
       "    <tr>\n",
       "      <th>4</th>\n",
       "      <td>5</td>\n",
       "      <td>0</td>\n",
       "      <td>3</td>\n",
       "      <td>Allen, Mr. William Henry</td>\n",
       "      <td>male</td>\n",
       "      <td>35.0</td>\n",
       "      <td>0</td>\n",
       "      <td>0</td>\n",
       "      <td>373450</td>\n",
       "      <td>8.0500</td>\n",
       "      <td>NaN</td>\n",
       "      <td>S</td>\n",
       "    </tr>\n",
       "  </tbody>\n",
       "</table>\n",
       "</div>"
      ],
      "text/plain": [
       "   PassengerId  Survived  Pclass  \\\n",
       "0            1         0       3   \n",
       "1            2         1       1   \n",
       "2            3         1       3   \n",
       "3            4         1       1   \n",
       "4            5         0       3   \n",
       "\n",
       "                                                Name     Sex   Age  SibSp  \\\n",
       "0                            Braund, Mr. Owen Harris    male  22.0      1   \n",
       "1  Cumings, Mrs. John Bradley (Florence Briggs Th...  female  38.0      1   \n",
       "2                             Heikkinen, Miss. Laina  female  26.0      0   \n",
       "3       Futrelle, Mrs. Jacques Heath (Lily May Peel)  female  35.0      1   \n",
       "4                           Allen, Mr. William Henry    male  35.0      0   \n",
       "\n",
       "   Parch            Ticket     Fare Cabin Embarked  \n",
       "0      0         A/5 21171   7.2500   NaN        S  \n",
       "1      0          PC 17599  71.2833   C85        C  \n",
       "2      0  STON/O2. 3101282   7.9250   NaN        S  \n",
       "3      0            113803  53.1000  C123        S  \n",
       "4      0            373450   8.0500   NaN        S  "
      ]
     },
     "execution_count": 3,
     "metadata": {},
     "output_type": "execute_result"
    }
   ],
   "source": [
    "train_data.head()"
   ]
  },
  {
   "cell_type": "code",
   "execution_count": 4,
   "metadata": {},
   "outputs": [
    {
     "data": {
      "text/html": [
       "<div>\n",
       "<style scoped>\n",
       "    .dataframe tbody tr th:only-of-type {\n",
       "        vertical-align: middle;\n",
       "    }\n",
       "\n",
       "    .dataframe tbody tr th {\n",
       "        vertical-align: top;\n",
       "    }\n",
       "\n",
       "    .dataframe thead th {\n",
       "        text-align: right;\n",
       "    }\n",
       "</style>\n",
       "<table border=\"1\" class=\"dataframe\">\n",
       "  <thead>\n",
       "    <tr style=\"text-align: right;\">\n",
       "      <th></th>\n",
       "      <th>PassengerId</th>\n",
       "      <th>Pclass</th>\n",
       "      <th>Name</th>\n",
       "      <th>Sex</th>\n",
       "      <th>Age</th>\n",
       "      <th>SibSp</th>\n",
       "      <th>Parch</th>\n",
       "      <th>Ticket</th>\n",
       "      <th>Fare</th>\n",
       "      <th>Cabin</th>\n",
       "      <th>Embarked</th>\n",
       "    </tr>\n",
       "  </thead>\n",
       "  <tbody>\n",
       "    <tr>\n",
       "      <th>0</th>\n",
       "      <td>892</td>\n",
       "      <td>3</td>\n",
       "      <td>Kelly, Mr. James</td>\n",
       "      <td>male</td>\n",
       "      <td>34.5</td>\n",
       "      <td>0</td>\n",
       "      <td>0</td>\n",
       "      <td>330911</td>\n",
       "      <td>7.8292</td>\n",
       "      <td>NaN</td>\n",
       "      <td>Q</td>\n",
       "    </tr>\n",
       "    <tr>\n",
       "      <th>1</th>\n",
       "      <td>893</td>\n",
       "      <td>3</td>\n",
       "      <td>Wilkes, Mrs. James (Ellen Needs)</td>\n",
       "      <td>female</td>\n",
       "      <td>47.0</td>\n",
       "      <td>1</td>\n",
       "      <td>0</td>\n",
       "      <td>363272</td>\n",
       "      <td>7.0000</td>\n",
       "      <td>NaN</td>\n",
       "      <td>S</td>\n",
       "    </tr>\n",
       "    <tr>\n",
       "      <th>2</th>\n",
       "      <td>894</td>\n",
       "      <td>2</td>\n",
       "      <td>Myles, Mr. Thomas Francis</td>\n",
       "      <td>male</td>\n",
       "      <td>62.0</td>\n",
       "      <td>0</td>\n",
       "      <td>0</td>\n",
       "      <td>240276</td>\n",
       "      <td>9.6875</td>\n",
       "      <td>NaN</td>\n",
       "      <td>Q</td>\n",
       "    </tr>\n",
       "    <tr>\n",
       "      <th>3</th>\n",
       "      <td>895</td>\n",
       "      <td>3</td>\n",
       "      <td>Wirz, Mr. Albert</td>\n",
       "      <td>male</td>\n",
       "      <td>27.0</td>\n",
       "      <td>0</td>\n",
       "      <td>0</td>\n",
       "      <td>315154</td>\n",
       "      <td>8.6625</td>\n",
       "      <td>NaN</td>\n",
       "      <td>S</td>\n",
       "    </tr>\n",
       "    <tr>\n",
       "      <th>4</th>\n",
       "      <td>896</td>\n",
       "      <td>3</td>\n",
       "      <td>Hirvonen, Mrs. Alexander (Helga E Lindqvist)</td>\n",
       "      <td>female</td>\n",
       "      <td>22.0</td>\n",
       "      <td>1</td>\n",
       "      <td>1</td>\n",
       "      <td>3101298</td>\n",
       "      <td>12.2875</td>\n",
       "      <td>NaN</td>\n",
       "      <td>S</td>\n",
       "    </tr>\n",
       "  </tbody>\n",
       "</table>\n",
       "</div>"
      ],
      "text/plain": [
       "   PassengerId  Pclass                                          Name     Sex  \\\n",
       "0          892       3                              Kelly, Mr. James    male   \n",
       "1          893       3              Wilkes, Mrs. James (Ellen Needs)  female   \n",
       "2          894       2                     Myles, Mr. Thomas Francis    male   \n",
       "3          895       3                              Wirz, Mr. Albert    male   \n",
       "4          896       3  Hirvonen, Mrs. Alexander (Helga E Lindqvist)  female   \n",
       "\n",
       "    Age  SibSp  Parch   Ticket     Fare Cabin Embarked  \n",
       "0  34.5      0      0   330911   7.8292   NaN        Q  \n",
       "1  47.0      1      0   363272   7.0000   NaN        S  \n",
       "2  62.0      0      0   240276   9.6875   NaN        Q  \n",
       "3  27.0      0      0   315154   8.6625   NaN        S  \n",
       "4  22.0      1      1  3101298  12.2875   NaN        S  "
      ]
     },
     "execution_count": 4,
     "metadata": {},
     "output_type": "execute_result"
    }
   ],
   "source": [
    "test_data.head()"
   ]
  },
  {
   "cell_type": "markdown",
   "metadata": {},
   "source": [
    "## Verifying NaN values, and data types"
   ]
  },
  {
   "cell_type": "code",
   "execution_count": 5,
   "metadata": {},
   "outputs": [
    {
     "name": "stdout",
     "output_type": "stream",
     "text": [
      "<class 'pandas.core.frame.DataFrame'>\n",
      "RangeIndex: 891 entries, 0 to 890\n",
      "Data columns (total 12 columns):\n",
      " #   Column       Non-Null Count  Dtype  \n",
      "---  ------       --------------  -----  \n",
      " 0   PassengerId  891 non-null    int64  \n",
      " 1   Survived     891 non-null    int64  \n",
      " 2   Pclass       891 non-null    int64  \n",
      " 3   Name         891 non-null    object \n",
      " 4   Sex          891 non-null    object \n",
      " 5   Age          714 non-null    float64\n",
      " 6   SibSp        891 non-null    int64  \n",
      " 7   Parch        891 non-null    int64  \n",
      " 8   Ticket       891 non-null    object \n",
      " 9   Fare         891 non-null    float64\n",
      " 10  Cabin        204 non-null    object \n",
      " 11  Embarked     889 non-null    object \n",
      "dtypes: float64(2), int64(5), object(5)\n",
      "memory usage: 83.7+ KB\n"
     ]
    }
   ],
   "source": [
    "train_data.info()"
   ]
  },
  {
   "cell_type": "code",
   "execution_count": 6,
   "metadata": {},
   "outputs": [
    {
     "name": "stdout",
     "output_type": "stream",
     "text": [
      "<class 'pandas.core.frame.DataFrame'>\n",
      "RangeIndex: 418 entries, 0 to 417\n",
      "Data columns (total 11 columns):\n",
      " #   Column       Non-Null Count  Dtype  \n",
      "---  ------       --------------  -----  \n",
      " 0   PassengerId  418 non-null    int64  \n",
      " 1   Pclass       418 non-null    int64  \n",
      " 2   Name         418 non-null    object \n",
      " 3   Sex          418 non-null    object \n",
      " 4   Age          332 non-null    float64\n",
      " 5   SibSp        418 non-null    int64  \n",
      " 6   Parch        418 non-null    int64  \n",
      " 7   Ticket       418 non-null    object \n",
      " 8   Fare         417 non-null    float64\n",
      " 9   Cabin        91 non-null     object \n",
      " 10  Embarked     418 non-null    object \n",
      "dtypes: float64(2), int64(4), object(5)\n",
      "memory usage: 36.0+ KB\n"
     ]
    }
   ],
   "source": [
    "test_data.info()"
   ]
  },
  {
   "cell_type": "code",
   "execution_count": 7,
   "metadata": {},
   "outputs": [
    {
     "data": {
      "text/plain": [
       "<matplotlib.legend.Legend at 0x1d8fd3335e0>"
      ]
     },
     "execution_count": 7,
     "metadata": {},
     "output_type": "execute_result"
    },
    {
     "data": {
      "image/png": "[encoded data removed]",
      "text/plain": [
       "<Figure size 432x288 with 1 Axes>"
      ]
     },
     "metadata": {
      "needs_background": "light"
     },
     "output_type": "display_data"
    }
   ],
   "source": [
    "import seaborn as sns\n",
    "import matplotlib.pyplot as plt\n",
    "plt.title('NaN Values')\n",
    "plt.barh(y=train_data.columns, data=train_data, width=train_data.isna().sum(),label='train_data')\n",
    "plt.barh(y=test_data.columns, data=test_data, width=test_data.isna().sum(),label='test_data')\n",
    "plt.legend()"
   ]
  },
  {
   "cell_type": "markdown",
   "metadata": {},
   "source": [
    "## I chose to drop the column Cabin because it have more than 75% of NaN values, and treat could give bias to the feature."
   ]
  },
  {
   "cell_type": "code",
   "execution_count": 8,
   "metadata": {},
   "outputs": [],
   "source": [
    "train_data_clean = train_data.drop(columns='Cabin')\n",
    "test_data_clean = test_data.drop(columns='Cabin')"
   ]
  },
  {
   "cell_type": "code",
   "execution_count": 9,
   "metadata": {},
   "outputs": [
    {
     "data": {
      "text/plain": [
       "<matplotlib.legend.Legend at 0x1d8fd385f40>"
      ]
     },
     "execution_count": 9,
     "metadata": {},
     "output_type": "execute_result"
    },
    {
     "data": {
      "image/png": "[encoded data removed]",
      "text/plain": [
       "<Figure size 432x288 with 1 Axes>"
      ]
     },
     "metadata": {
      "needs_background": "light"
     },
     "output_type": "display_data"
    }
   ],
   "source": [
    "plt.title('NaN Values')\n",
    "plt.barh(y=train_data_clean.columns, \n",
    "         data=train_data_clean, \n",
    "         width=train_data_clean.isna().sum(),\n",
    "         label='train_data_clean')\n",
    "plt.barh(y=test_data_clean.columns, \n",
    "         data=test_data_clean, \n",
    "         width=test_data_clean.isna().sum(),\n",
    "         label='test_data_clean')\n",
    "plt.legend()"
   ]
  },
  {
   "cell_type": "markdown",
   "metadata": {},
   "source": [
    "## Looking for correlations, and data statistics"
   ]
  },
  {
   "cell_type": "code",
   "execution_count": 10,
   "metadata": {},
   "outputs": [
    {
     "data": {
      "text/html": [
       "<div>\n",
       "<style scoped>\n",
       "    .dataframe tbody tr th:only-of-type {\n",
       "        vertical-align: middle;\n",
       "    }\n",
       "\n",
       "    .dataframe tbody tr th {\n",
       "        vertical-align: top;\n",
       "    }\n",
       "\n",
       "    .dataframe thead th {\n",
       "        text-align: right;\n",
       "    }\n",
       "</style>\n",
       "<table border=\"1\" class=\"dataframe\">\n",
       "  <thead>\n",
       "    <tr style=\"text-align: right;\">\n",
       "      <th></th>\n",
       "      <th>PassengerId</th>\n",
       "      <th>Survived</th>\n",
       "      <th>Pclass</th>\n",
       "      <th>Age</th>\n",
       "      <th>SibSp</th>\n",
       "      <th>Parch</th>\n",
       "      <th>Fare</th>\n",
       "    </tr>\n",
       "  </thead>\n",
       "  <tbody>\n",
       "    <tr>\n",
       "      <th>count</th>\n",
       "      <td>891.000000</td>\n",
       "      <td>891.000000</td>\n",
       "      <td>891.000000</td>\n",
       "      <td>714.000000</td>\n",
       "      <td>891.000000</td>\n",
       "      <td>891.000000</td>\n",
       "      <td>891.000000</td>\n",
       "    </tr>\n",
       "    <tr>\n",
       "      <th>mean</th>\n",
       "      <td>446.000000</td>\n",
       "      <td>0.383838</td>\n",
       "      <td>2.308642</td>\n",
       "      <td>29.699118</td>\n",
       "      <td>0.523008</td>\n",
       "      <td>0.381594</td>\n",
       "      <td>32.204208</td>\n",
       "    </tr>\n",
       "    <tr>\n",
       "      <th>std</th>\n",
       "      <td>257.353842</td>\n",
       "      <td>0.486592</td>\n",
       "      <td>0.836071</td>\n",
       "      <td>14.526497</td>\n",
       "      <td>1.102743</td>\n",
       "      <td>0.806057</td>\n",
       "      <td>49.693429</td>\n",
       "    </tr>\n",
       "    <tr>\n",
       "      <th>min</th>\n",
       "      <td>1.000000</td>\n",
       "      <td>0.000000</td>\n",
       "      <td>1.000000</td>\n",
       "      <td>0.420000</td>\n",
       "      <td>0.000000</td>\n",
       "      <td>0.000000</td>\n",
       "      <td>0.000000</td>\n",
       "    </tr>\n",
       "    <tr>\n",
       "      <th>25%</th>\n",
       "      <td>223.500000</td>\n",
       "      <td>0.000000</td>\n",
       "      <td>2.000000</td>\n",
       "      <td>20.125000</td>\n",
       "      <td>0.000000</td>\n",
       "      <td>0.000000</td>\n",
       "      <td>7.910400</td>\n",
       "    </tr>\n",
       "    <tr>\n",
       "      <th>50%</th>\n",
       "      <td>446.000000</td>\n",
       "      <td>0.000000</td>\n",
       "      <td>3.000000</td>\n",
       "      <td>28.000000</td>\n",
       "      <td>0.000000</td>\n",
       "      <td>0.000000</td>\n",
       "      <td>14.454200</td>\n",
       "    </tr>\n",
       "    <tr>\n",
       "      <th>75%</th>\n",
       "      <td>668.500000</td>\n",
       "      <td>1.000000</td>\n",
       "      <td>3.000000</td>\n",
       "      <td>38.000000</td>\n",
       "      <td>1.000000</td>\n",
       "      <td>0.000000</td>\n",
       "      <td>31.000000</td>\n",
       "    </tr>\n",
       "    <tr>\n",
       "      <th>max</th>\n",
       "      <td>891.000000</td>\n",
       "      <td>1.000000</td>\n",
       "      <td>3.000000</td>\n",
       "      <td>80.000000</td>\n",
       "      <td>8.000000</td>\n",
       "      <td>6.000000</td>\n",
       "      <td>512.329200</td>\n",
       "    </tr>\n",
       "  </tbody>\n",
       "</table>\n",
       "</div>"
      ],
      "text/plain": [
       "       PassengerId    Survived      Pclass         Age       SibSp  \\\n",
       "count   891.000000  891.000000  891.000000  714.000000  891.000000   \n",
       "mean    446.000000    0.383838    2.308642   29.699118    0.523008   \n",
       "std     257.353842    0.486592    0.836071   14.526497    1.102743   \n",
       "min       1.000000    0.000000    1.000000    0.420000    0.000000   \n",
       "25%     223.500000    0.000000    2.000000   20.125000    0.000000   \n",
       "50%     446.000000    0.000000    3.000000   28.000000    0.000000   \n",
       "75%     668.500000    1.000000    3.000000   38.000000    1.000000   \n",
       "max     891.000000    1.000000    3.000000   80.000000    8.000000   \n",
       "\n",
       "            Parch        Fare  \n",
       "count  891.000000  891.000000  \n",
       "mean     0.381594   32.204208  \n",
       "std      0.806057   49.693429  \n",
       "min      0.000000    0.000000  \n",
       "25%      0.000000    7.910400  \n",
       "50%      0.000000   14.454200  \n",
       "75%      0.000000   31.000000  \n",
       "max      6.000000  512.329200  "
      ]
     },
     "execution_count": 10,
     "metadata": {},
     "output_type": "execute_result"
    }
   ],
   "source": [
    "train_data_clean.describe()"
   ]
  },
  {
   "cell_type": "code",
   "execution_count": 11,
   "metadata": {},
   "outputs": [
    {
     "data": {
      "text/html": [
       "<div>\n",
       "<style scoped>\n",
       "    .dataframe tbody tr th:only-of-type {\n",
       "        vertical-align: middle;\n",
       "    }\n",
       "\n",
       "    .dataframe tbody tr th {\n",
       "        vertical-align: top;\n",
       "    }\n",
       "\n",
       "    .dataframe thead th {\n",
       "        text-align: right;\n",
       "    }\n",
       "</style>\n",
       "<table border=\"1\" class=\"dataframe\">\n",
       "  <thead>\n",
       "    <tr style=\"text-align: right;\">\n",
       "      <th></th>\n",
       "      <th>PassengerId</th>\n",
       "      <th>Pclass</th>\n",
       "      <th>Age</th>\n",
       "      <th>SibSp</th>\n",
       "      <th>Parch</th>\n",
       "      <th>Fare</th>\n",
       "    </tr>\n",
       "  </thead>\n",
       "  <tbody>\n",
       "    <tr>\n",
       "      <th>count</th>\n",
       "      <td>418.000000</td>\n",
       "      <td>418.000000</td>\n",
       "      <td>332.000000</td>\n",
       "      <td>418.000000</td>\n",
       "      <td>418.000000</td>\n",
       "      <td>417.000000</td>\n",
       "    </tr>\n",
       "    <tr>\n",
       "      <th>mean</th>\n",
       "      <td>1100.500000</td>\n",
       "      <td>2.265550</td>\n",
       "      <td>30.272590</td>\n",
       "      <td>0.447368</td>\n",
       "      <td>0.392344</td>\n",
       "      <td>35.627188</td>\n",
       "    </tr>\n",
       "    <tr>\n",
       "      <th>std</th>\n",
       "      <td>120.810458</td>\n",
       "      <td>0.841838</td>\n",
       "      <td>14.181209</td>\n",
       "      <td>0.896760</td>\n",
       "      <td>0.981429</td>\n",
       "      <td>55.907576</td>\n",
       "    </tr>\n",
       "    <tr>\n",
       "      <th>min</th>\n",
       "      <td>892.000000</td>\n",
       "      <td>1.000000</td>\n",
       "      <td>0.170000</td>\n",
       "      <td>0.000000</td>\n",
       "      <td>0.000000</td>\n",
       "      <td>0.000000</td>\n",
       "    </tr>\n",
       "    <tr>\n",
       "      <th>25%</th>\n",
       "      <td>996.250000</td>\n",
       "      <td>1.000000</td>\n",
       "      <td>21.000000</td>\n",
       "      <td>0.000000</td>\n",
       "      <td>0.000000</td>\n",
       "      <td>7.895800</td>\n",
       "    </tr>\n",
       "    <tr>\n",
       "      <th>50%</th>\n",
       "      <td>1100.500000</td>\n",
       "      <td>3.000000</td>\n",
       "      <td>27.000000</td>\n",
       "      <td>0.000000</td>\n",
       "      <td>0.000000</td>\n",
       "      <td>14.454200</td>\n",
       "    </tr>\n",
       "    <tr>\n",
       "      <th>75%</th>\n",
       "      <td>1204.750000</td>\n",
       "      <td>3.000000</td>\n",
       "      <td>39.000000</td>\n",
       "      <td>1.000000</td>\n",
       "      <td>0.000000</td>\n",
       "      <td>31.500000</td>\n",
       "    </tr>\n",
       "    <tr>\n",
       "      <th>max</th>\n",
       "      <td>1309.000000</td>\n",
       "      <td>3.000000</td>\n",
       "      <td>76.000000</td>\n",
       "      <td>8.000000</td>\n",
       "      <td>9.000000</td>\n",
       "      <td>512.329200</td>\n",
       "    </tr>\n",
       "  </tbody>\n",
       "</table>\n",
       "</div>"
      ],
      "text/plain": [
       "       PassengerId      Pclass         Age       SibSp       Parch        Fare\n",
       "count   418.000000  418.000000  332.000000  418.000000  418.000000  417.000000\n",
       "mean   1100.500000    2.265550   30.272590    0.447368    0.392344   35.627188\n",
       "std     120.810458    0.841838   14.181209    0.896760    0.981429   55.907576\n",
       "min     892.000000    1.000000    0.170000    0.000000    0.000000    0.000000\n",
       "25%     996.250000    1.000000   21.000000    0.000000    0.000000    7.895800\n",
       "50%    1100.500000    3.000000   27.000000    0.000000    0.000000   14.454200\n",
       "75%    1204.750000    3.000000   39.000000    1.000000    0.000000   31.500000\n",
       "max    1309.000000    3.000000   76.000000    8.000000    9.000000  512.329200"
      ]
     },
     "execution_count": 11,
     "metadata": {},
     "output_type": "execute_result"
    }
   ],
   "source": [
    "test_data_clean.describe()"
   ]
  },
  {
   "cell_type": "code",
   "execution_count": 12,
   "metadata": {},
   "outputs": [
    {
     "data": {
      "text/plain": [
       "<AxesSubplot:>"
      ]
     },
     "execution_count": 12,
     "metadata": {},
     "output_type": "execute_result"
    },
    {
     "data": {
      "image/png": "[encoded data removed]",
      "text/plain": [
       "<Figure size 432x288 with 2 Axes>"
      ]
     },
     "metadata": {
      "needs_background": "light"
     },
     "output_type": "display_data"
    }
   ],
   "source": [
    "import numpy as np\n",
    "sns.heatmap(data=train_data_clean.select_dtypes(np.number).corr(), annot=True)"
   ]
  },
  {
   "cell_type": "code",
   "execution_count": 13,
   "metadata": {},
   "outputs": [
    {
     "data": {
      "text/plain": [
       "PassengerId    0.005007\n",
       "SibSp          0.035322\n",
       "Age            0.077221\n",
       "Parch          0.081629\n",
       "Fare           0.257307\n",
       "Pclass         0.338481\n",
       "Survived       1.000000\n",
       "Name: Survived, dtype: float64"
      ]
     },
     "execution_count": 13,
     "metadata": {},
     "output_type": "execute_result"
    }
   ],
   "source": [
    "train_data_clean.select_dtypes(np.number).corr().abs().sort_values(by='Survived')['Survived']\n",
    "\n",
    "# Pclass, and Fare are the features that is more correlated to the target.\n",
    "# Those targets are related to how much money the passenger have."
   ]
  },
  {
   "cell_type": "markdown",
   "metadata": {},
   "source": [
    "## Verifying Pclass with Age, SibSp and Parch influence over the target, and others EDA"
   ]
  },
  {
   "cell_type": "code",
   "execution_count": 14,
   "metadata": {},
   "outputs": [
    {
     "data": {
      "image/png": "[encoded data removed]",
      "text/plain": [
       "<Figure size 720x432 with 1 Axes>"
      ]
     },
     "metadata": {
      "needs_background": "light"
     },
     "output_type": "display_data"
    }
   ],
   "source": [
    "# Rounding Age column\n",
    "\n",
    "train_data_clean['Age_Rounded'] = (train_data_clean['Age'] // 10) * 10\n",
    "\n",
    "# Group by Pclass and Age_Rounded, counting target positive values\n",
    "grouped_data = train_data_clean.groupby(['Pclass', 'Age_Rounded'])['Survived'].sum().reset_index()\n",
    "\n",
    "class_colors = {1: 'blue', 2: 'green', 3: 'orange'}\n",
    "\n",
    "\n",
    "plt.figure(figsize=(10, 6))\n",
    "plt.bar(grouped_data.index, grouped_data['Survived'], \n",
    "        tick_label=grouped_data['Pclass'].astype(str) + ' - ' + grouped_data['Age_Rounded'].astype(str))\n",
    "bars = plt.bar(grouped_data.index, grouped_data['Survived'], tick_label=grouped_data['Pclass'].astype(str) + ' - ' + grouped_data['Age_Rounded'].astype(str))\n",
    "legend_labels = []\n",
    "for i, bar in enumerate(bars):\n",
    "    pclass = grouped_data.loc[i, 'Pclass']\n",
    "    bar.set_color(class_colors[pclass])\n",
    "    if pclass not in legend_labels:\n",
    "        legend_labels.append(pclass)\n",
    "plt.xlabel('Pclass and Age Rounded')\n",
    "plt.ylabel('Survived')\n",
    "plt.title('Survived by Pclass and Age Rounded')\n",
    "plt.xticks(rotation=90)\n",
    "plt.tight_layout()\n",
    "\n",
    "\n",
    "plt.show()"
   ]
  },
  {
   "cell_type": "code",
   "execution_count": 15,
   "metadata": {},
   "outputs": [
    {
     "data": {
      "image/png": "[encoded data removed]",
      "text/plain": [
       "<Figure size 720x432 with 1 Axes>"
      ]
     },
     "metadata": {
      "needs_background": "light"
     },
     "output_type": "display_data"
    }
   ],
   "source": [
    "grouped_data = train_data_clean.groupby('Age_Rounded')['Survived'].sum().reset_index()\n",
    "\n",
    "plt.figure(figsize=(10, 6))\n",
    "plt.bar(grouped_data['Age_Rounded'], grouped_data['Survived'], color='green')\n",
    "plt.xlabel('Age Rounded')\n",
    "plt.ylabel('Survived')\n",
    "plt.title('Survived by Age Rounded')\n",
    "plt.xticks(np.unique(grouped_data['Age_Rounded']))\n",
    "plt.tight_layout()\n",
    "\n",
    "plt.show()\n",
    "\n",
    "# People between 15 and 35 years old were more likely to survive."
   ]
  },
  {
   "cell_type": "code",
   "execution_count": 16,
   "metadata": {},
   "outputs": [
    {
     "name": "stderr",
     "output_type": "stream",
     "text": [
      "No handles with labels found to put in legend.\n"
     ]
    },
    {
     "data": {
      "image/png": "[encoded data removed]",
      "text/plain": [
       "<Figure size 720x432 with 1 Axes>"
      ]
     },
     "metadata": {
      "needs_background": "light"
     },
     "output_type": "display_data"
    }
   ],
   "source": [
    "# Group by Pclass and Age_Rounded, counting target positive values\n",
    "grouped_data = train_data_clean.groupby(['Pclass', 'Parch'])['Survived'].sum().reset_index()\n",
    "\n",
    "class_colors = {1: 'blue', 2: 'green', 3: 'orange'}\n",
    "\n",
    "\n",
    "plt.figure(figsize=(10, 6))\n",
    "plt.bar(grouped_data.index, grouped_data['Survived'], \n",
    "        tick_label=grouped_data['Pclass'].astype(str) + ' - ' + grouped_data['Parch'].astype(str))\n",
    "bars = plt.bar(grouped_data.index, grouped_data['Survived'], tick_label=grouped_data['Pclass'].astype(str) + ' - ' + grouped_data['Parch'].astype(str))\n",
    "legend_labels = []\n",
    "for i, bar in enumerate(bars):\n",
    "    pclass = grouped_data.loc[i, 'Pclass']\n",
    "    bar.set_color(class_colors[pclass])\n",
    "    if pclass not in legend_labels:\n",
    "        legend_labels.append(pclass)\n",
    "plt.xlabel('Pclass and Parch')\n",
    "plt.ylabel('Survived')\n",
    "plt.title('Survived by Pclass and Parch')\n",
    "plt.xticks(rotation=90)\n",
    "plt.tight_layout()\n",
    "plt.legend()\n",
    "plt.show()\n",
    "\n",
    "# People with Parch=0 were more likely to survive."
   ]
  },
  {
   "cell_type": "code",
   "execution_count": 17,
   "metadata": {},
   "outputs": [
    {
     "data": {
      "image/png": "[encoded data removed]",
      "text/plain": [
       "<Figure size 720x432 with 1 Axes>"
      ]
     },
     "metadata": {
      "needs_background": "light"
     },
     "output_type": "display_data"
    }
   ],
   "source": [
    "# Group by Pclass and Age_Rounded, counting target positive values\n",
    "grouped_data = train_data_clean.groupby(['Pclass', 'SibSp'])['Survived'].sum().reset_index()\n",
    "\n",
    "class_colors = {1: 'blue', 2: 'green', 3: 'orange'}\n",
    "\n",
    "\n",
    "plt.figure(figsize=(10, 6))\n",
    "plt.bar(grouped_data.index, grouped_data['Survived'], \n",
    "        tick_label=grouped_data['Pclass'].astype(str) + ' - ' + grouped_data['SibSp'].astype(str))\n",
    "bars = plt.bar(grouped_data.index, grouped_data['Survived'], tick_label=grouped_data['Pclass'].astype(str) + ' - ' + grouped_data['SibSp'].astype(str))\n",
    "legend_labels = []\n",
    "for i, bar in enumerate(bars):\n",
    "    pclass = grouped_data.loc[i, 'Pclass']\n",
    "    bar.set_color(class_colors[pclass])\n",
    "    if pclass not in legend_labels:\n",
    "        legend_labels.append(pclass)\n",
    "plt.xlabel('Pclass and SibSp')\n",
    "plt.ylabel('Survived')\n",
    "plt.title('Survived by Pclass and SibSp')\n",
    "plt.xticks(rotation=90)\n",
    "plt.tight_layout()\n",
    "\n",
    "\n",
    "plt.show()\n",
    "\n",
    "# People with SibSp=0 were more likely to survive."
   ]
  },
  {
   "cell_type": "code",
   "execution_count": 18,
   "metadata": {},
   "outputs": [
    {
     "data": {
      "text/plain": [
       "Sex\n",
       "female    233\n",
       "male      109\n",
       "Name: Survived, dtype: int64"
      ]
     },
     "execution_count": 18,
     "metadata": {},
     "output_type": "execute_result"
    }
   ],
   "source": [
    "train_data_clean.groupby(['Sex'])['Survived'].sum()\n",
    "\n",
    "# Women were more likely to survive."
   ]
  },
  {
   "cell_type": "code",
   "execution_count": 19,
   "metadata": {},
   "outputs": [
    {
     "data": {
      "text/plain": [
       "Pclass\n",
       "1    136\n",
       "2     87\n",
       "3    119\n",
       "Name: Survived, dtype: int64"
      ]
     },
     "execution_count": 19,
     "metadata": {},
     "output_type": "execute_result"
    }
   ],
   "source": [
    "train_data_clean.groupby(['Pclass'])['Survived'].sum()\n",
    "\n",
    "# People from 1st class were likely to survive."
   ]
  },
  {
   "cell_type": "code",
   "execution_count": 20,
   "metadata": {},
   "outputs": [
    {
     "data": {
      "image/png": "[encoded data removed]",
      "text/plain": [
       "<Figure size 720x432 with 1 Axes>"
      ]
     },
     "metadata": {
      "needs_background": "light"
     },
     "output_type": "display_data"
    }
   ],
   "source": [
    "# Rounding Fare column\n",
    "\n",
    "train_data_clean['Fare_Rounded'] = (train_data_clean['Fare'] // 10) * 10\n",
    "\n",
    "# Group by Fare_Rounded, counting target positive values\n",
    "grouped_data = train_data_clean.groupby(['Fare_Rounded'])['Survived'].sum().reset_index()\n",
    "\n",
    "plt.figure(figsize=(10, 6))\n",
    "plt.bar(grouped_data.index, grouped_data['Survived'], \n",
    "        tick_label=grouped_data['Fare_Rounded'].astype(str))\n",
    "bars = plt.bar(grouped_data.index, grouped_data['Survived'], tick_label=grouped_data['Fare_Rounded'].astype(str))\n",
    "plt.xlabel('Pclass and Age Rounded')\n",
    "plt.ylabel('Survived')\n",
    "plt.title('Survived by Pclass and Age Rounded')\n",
    "plt.xticks(rotation=90)\n",
    "plt.tight_layout()\n",
    "\n",
    "\n",
    "plt.show()\n",
    "# people that paid less Fare, had more chance to survive."
   ]
  },
  {
   "cell_type": "code",
   "execution_count": 21,
   "metadata": {},
   "outputs": [
    {
     "data": {
      "image/png": "[encoded data removed]",
      "text/plain": [
       "<Figure size 432x288 with 1 Axes>"
      ]
     },
     "metadata": {
      "needs_background": "light"
     },
     "output_type": "display_data"
    },
    {
     "data": {
      "image/png": "[encoded data removed]",
      "text/plain": [
       "<Figure size 432x288 with 1 Axes>"
      ]
     },
     "metadata": {
      "needs_background": "light"
     },
     "output_type": "display_data"
    },
    {
     "data": {
      "image/png": "[encoded data removed]",
      "text/plain": [
       "<Figure size 432x288 with 1 Axes>"
      ]
     },
     "metadata": {
      "needs_background": "light"
     },
     "output_type": "display_data"
    },
    {
     "data": {
      "image/png": "[encoded data removed]",
      "text/plain": [
       "<Figure size 432x288 with 1 Axes>"
      ]
     },
     "metadata": {
      "needs_background": "light"
     },
     "output_type": "display_data"
    }
   ],
   "source": [
    "data = pd.concat([train_data_clean,test_data_clean])\n",
    "\n",
    "data_num = data[['Age','SibSp','Parch','Fare']]\n",
    "data_cat = data[['Survived','Pclass','Sex','Ticket','Embarked']]\n",
    "for i in data_num.columns:\n",
    "    sns.histplot(data_num[i])\n",
    "    plt.title(i)\n",
    "    plt.show()"
   ]
  },
  {
   "cell_type": "markdown",
   "metadata": {},
   "source": [
    "## Looking at histograms, normalizing data could be necessary"
   ]
  },
  {
   "cell_type": "code",
   "execution_count": 22,
   "metadata": {},
   "outputs": [
    {
     "data": {
      "image/png": "[encoded data removed]",
      "text/plain": [
       "<Figure size 432x288 with 1 Axes>"
      ]
     },
     "metadata": {
      "needs_background": "light"
     },
     "output_type": "display_data"
    },
    {
     "data": {
      "image/png": "[encoded data removed]",
      "text/plain": [
       "<Figure size 432x288 with 1 Axes>"
      ]
     },
     "metadata": {
      "needs_background": "light"
     },
     "output_type": "display_data"
    },
    {
     "data": {
      "image/png": "[encoded data removed]",
      "text/plain": [
       "<Figure size 432x288 with 1 Axes>"
      ]
     },
     "metadata": {
      "needs_background": "light"
     },
     "output_type": "display_data"
    },
    {
     "data": {
      "image/png": "[encoded data removed]",
      "text/plain": [
       "<Figure size 432x288 with 1 Axes>"
      ]
     },
     "metadata": {
      "needs_background": "light"
     },
     "output_type": "display_data"
    },
    {
     "data": {
      "image/png": "[encoded data removed]",
      "text/plain": [
       "<Figure size 432x288 with 1 Axes>"
      ]
     },
     "metadata": {
      "needs_background": "light"
     },
     "output_type": "display_data"
    }
   ],
   "source": [
    "for i in data_cat.columns:\n",
    "    sns.barplot(x=data_cat[i].value_counts().index,y=data_cat[i].value_counts()).set_title(i)\n",
    "    plt.show()"
   ]
  },
  {
   "cell_type": "markdown",
   "metadata": {},
   "source": [
    "## There are some unbalanced classes"
   ]
  },
  {
   "cell_type": "code",
   "execution_count": 23,
   "metadata": {},
   "outputs": [],
   "source": [
    "## creating ticket with letters, and numeric ticket column\n",
    "data['numeric_ticket'] = data.Ticket.apply(lambda x: 1 if x.isnumeric() else 0)\n",
    "data['ticket_letters'] = data.Ticket.apply(lambda x: ''.join(x.split(' ')[:-1]).replace('.','').replace('/','').lower() if len(x.split(' ')[:-1]) >0 else 0)"
   ]
  },
  {
   "cell_type": "code",
   "execution_count": 24,
   "metadata": {},
   "outputs": [
    {
     "data": {
      "text/plain": [
       "numeric_ticket\n",
       "1                 957\n",
       "0                 352\n",
       "dtype: int64"
      ]
     },
     "execution_count": 24,
     "metadata": {},
     "output_type": "execute_result"
    }
   ],
   "source": [
    "data[['numeric_ticket']].value_counts()"
   ]
  },
  {
   "cell_type": "code",
   "execution_count": 25,
   "metadata": {},
   "outputs": [
    {
     "data": {
      "text/html": [
       "<div>\n",
       "<style scoped>\n",
       "    .dataframe tbody tr th:only-of-type {\n",
       "        vertical-align: middle;\n",
       "    }\n",
       "\n",
       "    .dataframe tbody tr th {\n",
       "        vertical-align: top;\n",
       "    }\n",
       "\n",
       "    .dataframe thead th {\n",
       "        text-align: right;\n",
       "    }\n",
       "</style>\n",
       "<table border=\"1\" class=\"dataframe\">\n",
       "  <thead>\n",
       "    <tr style=\"text-align: right;\">\n",
       "      <th>numeric_ticket</th>\n",
       "      <th>0</th>\n",
       "      <th>1</th>\n",
       "    </tr>\n",
       "  </thead>\n",
       "  <tbody>\n",
       "    <tr>\n",
       "      <th>Survived</th>\n",
       "      <td>0.382609</td>\n",
       "      <td>0.384266</td>\n",
       "    </tr>\n",
       "  </tbody>\n",
       "</table>\n",
       "</div>"
      ],
      "text/plain": [
       "numeric_ticket         0         1\n",
       "Survived        0.382609  0.384266"
      ]
     },
     "execution_count": 25,
     "metadata": {},
     "output_type": "execute_result"
    }
   ],
   "source": [
    "pd.pivot_table(data, values='Survived', columns=['numeric_ticket'])"
   ]
  },
  {
   "cell_type": "code",
   "execution_count": 26,
   "metadata": {},
   "outputs": [],
   "source": [
    "table = pd.pivot_table(data, values='Survived', columns='ticket_letters').T.sort_values(by='Survived', ascending=False)"
   ]
  },
  {
   "cell_type": "code",
   "execution_count": 27,
   "metadata": {},
   "outputs": [],
   "source": [
    "count = pd.DataFrame()\n",
    "count['Ticket_Count'] = pd.DataFrame(data[['ticket_letters']].value_counts())"
   ]
  },
  {
   "cell_type": "code",
   "execution_count": 28,
   "metadata": {},
   "outputs": [],
   "source": [
    "merged_data = pd.merge(table, count, left_index=True, right_on='ticket_letters')"
   ]
  },
  {
   "cell_type": "code",
   "execution_count": 29,
   "metadata": {},
   "outputs": [
    {
     "data": {
      "text/html": [
       "<div>\n",
       "<style scoped>\n",
       "    .dataframe tbody tr th:only-of-type {\n",
       "        vertical-align: middle;\n",
       "    }\n",
       "\n",
       "    .dataframe tbody tr th {\n",
       "        vertical-align: top;\n",
       "    }\n",
       "\n",
       "    .dataframe thead th {\n",
       "        text-align: right;\n",
       "    }\n",
       "</style>\n",
       "<table border=\"1\" class=\"dataframe\">\n",
       "  <thead>\n",
       "    <tr style=\"text-align: right;\">\n",
       "      <th></th>\n",
       "      <th>Survived</th>\n",
       "      <th>Ticket_Count</th>\n",
       "    </tr>\n",
       "    <tr>\n",
       "      <th>ticket_letters</th>\n",
       "      <th></th>\n",
       "      <th></th>\n",
       "    </tr>\n",
       "  </thead>\n",
       "  <tbody>\n",
       "    <tr>\n",
       "      <th>sc</th>\n",
       "      <td>1.000000</td>\n",
       "      <td>2</td>\n",
       "    </tr>\n",
       "    <tr>\n",
       "      <th>swpp</th>\n",
       "      <td>1.000000</td>\n",
       "      <td>2</td>\n",
       "    </tr>\n",
       "    <tr>\n",
       "      <th>scahbasle</th>\n",
       "      <td>1.000000</td>\n",
       "      <td>1</td>\n",
       "    </tr>\n",
       "    <tr>\n",
       "      <th>fcc</th>\n",
       "      <td>0.800000</td>\n",
       "      <td>9</td>\n",
       "    </tr>\n",
       "    <tr>\n",
       "      <th>pp</th>\n",
       "      <td>0.666667</td>\n",
       "      <td>4</td>\n",
       "    </tr>\n",
       "    <tr>\n",
       "      <th>pc</th>\n",
       "      <td>0.650000</td>\n",
       "      <td>92</td>\n",
       "    </tr>\n",
       "    <tr>\n",
       "      <th>scah</th>\n",
       "      <td>0.500000</td>\n",
       "      <td>4</td>\n",
       "    </tr>\n",
       "    <tr>\n",
       "      <th>ppp</th>\n",
       "      <td>0.500000</td>\n",
       "      <td>2</td>\n",
       "    </tr>\n",
       "    <tr>\n",
       "      <th>scparis</th>\n",
       "      <td>0.454545</td>\n",
       "      <td>19</td>\n",
       "    </tr>\n",
       "    <tr>\n",
       "      <th>stono2</th>\n",
       "      <td>0.444444</td>\n",
       "      <td>21</td>\n",
       "    </tr>\n",
       "    <tr>\n",
       "      <th>c</th>\n",
       "      <td>0.400000</td>\n",
       "      <td>8</td>\n",
       "    </tr>\n",
       "    <tr>\n",
       "      <th>0</th>\n",
       "      <td>0.383459</td>\n",
       "      <td>961</td>\n",
       "    </tr>\n",
       "    <tr>\n",
       "      <th>ca</th>\n",
       "      <td>0.341463</td>\n",
       "      <td>68</td>\n",
       "    </tr>\n",
       "    <tr>\n",
       "      <th>wep</th>\n",
       "      <td>0.333333</td>\n",
       "      <td>4</td>\n",
       "    </tr>\n",
       "    <tr>\n",
       "      <th>soc</th>\n",
       "      <td>0.166667</td>\n",
       "      <td>8</td>\n",
       "    </tr>\n",
       "    <tr>\n",
       "      <th>sotonoq</th>\n",
       "      <td>0.133333</td>\n",
       "      <td>24</td>\n",
       "    </tr>\n",
       "    <tr>\n",
       "      <th>wc</th>\n",
       "      <td>0.100000</td>\n",
       "      <td>15</td>\n",
       "    </tr>\n",
       "    <tr>\n",
       "      <th>a5</th>\n",
       "      <td>0.095238</td>\n",
       "      <td>28</td>\n",
       "    </tr>\n",
       "    <tr>\n",
       "      <th>a4</th>\n",
       "      <td>0.000000</td>\n",
       "      <td>10</td>\n",
       "    </tr>\n",
       "    <tr>\n",
       "      <th>fc</th>\n",
       "      <td>0.000000</td>\n",
       "      <td>3</td>\n",
       "    </tr>\n",
       "    <tr>\n",
       "      <th>fa</th>\n",
       "      <td>0.000000</td>\n",
       "      <td>1</td>\n",
       "    </tr>\n",
       "    <tr>\n",
       "      <th>scow</th>\n",
       "      <td>0.000000</td>\n",
       "      <td>1</td>\n",
       "    </tr>\n",
       "    <tr>\n",
       "      <th>casoton</th>\n",
       "      <td>0.000000</td>\n",
       "      <td>1</td>\n",
       "    </tr>\n",
       "    <tr>\n",
       "      <th>sop</th>\n",
       "      <td>0.000000</td>\n",
       "      <td>1</td>\n",
       "    </tr>\n",
       "    <tr>\n",
       "      <th>sopp</th>\n",
       "      <td>0.000000</td>\n",
       "      <td>7</td>\n",
       "    </tr>\n",
       "    <tr>\n",
       "      <th>sotono2</th>\n",
       "      <td>0.000000</td>\n",
       "      <td>3</td>\n",
       "    </tr>\n",
       "    <tr>\n",
       "      <th>sp</th>\n",
       "      <td>0.000000</td>\n",
       "      <td>1</td>\n",
       "    </tr>\n",
       "    <tr>\n",
       "      <th>as</th>\n",
       "      <td>0.000000</td>\n",
       "      <td>1</td>\n",
       "    </tr>\n",
       "    <tr>\n",
       "      <th>sca4</th>\n",
       "      <td>0.000000</td>\n",
       "      <td>2</td>\n",
       "    </tr>\n",
       "  </tbody>\n",
       "</table>\n",
       "</div>"
      ],
      "text/plain": [
       "                Survived  Ticket_Count\n",
       "ticket_letters                        \n",
       "sc              1.000000             2\n",
       "swpp            1.000000             2\n",
       "scahbasle       1.000000             1\n",
       "fcc             0.800000             9\n",
       "pp              0.666667             4\n",
       "pc              0.650000            92\n",
       "scah            0.500000             4\n",
       "ppp             0.500000             2\n",
       "scparis         0.454545            19\n",
       "stono2          0.444444            21\n",
       "c               0.400000             8\n",
       "0               0.383459           961\n",
       "ca              0.341463            68\n",
       "wep             0.333333             4\n",
       "soc             0.166667             8\n",
       "sotonoq         0.133333            24\n",
       "wc              0.100000            15\n",
       "a5              0.095238            28\n",
       "a4              0.000000            10\n",
       "fc              0.000000             3\n",
       "fa              0.000000             1\n",
       "scow            0.000000             1\n",
       "casoton         0.000000             1\n",
       "sop             0.000000             1\n",
       "sopp            0.000000             7\n",
       "sotono2         0.000000             3\n",
       "sp              0.000000             1\n",
       "as              0.000000             1\n",
       "sca4            0.000000             2"
      ]
     },
     "execution_count": 29,
     "metadata": {},
     "output_type": "execute_result"
    }
   ],
   "source": [
    "merged_data"
   ]
  },
  {
   "cell_type": "markdown",
   "metadata": {},
   "source": [
    "## Since most of type of tickets have less than 1% of the total sample size, I chose to not consider it correlated with the target, even if there some classes with more than 50% Survival rate, those samples are too small to infer anything"
   ]
  },
  {
   "cell_type": "code",
   "execution_count": 30,
   "metadata": {},
   "outputs": [],
   "source": [
    "# Looking for name titles\n",
    "\n",
    "data['name_titles'] = data.Name.apply(lambda x: x.split('.')[0])"
   ]
  },
  {
   "cell_type": "code",
   "execution_count": 31,
   "metadata": {},
   "outputs": [],
   "source": [
    "data['name_titles'] = data.name_titles.apply(lambda x: x.split(' ')[-1])"
   ]
  },
  {
   "cell_type": "code",
   "execution_count": 32,
   "metadata": {},
   "outputs": [
    {
     "data": {
      "text/plain": [
       "Mr          757\n",
       "Miss        260\n",
       "Mrs         197\n",
       "Master       61\n",
       "Rev           8\n",
       "Dr            8\n",
       "Col           4\n",
       "Mlle          2\n",
       "Major         2\n",
       "Ms            2\n",
       "Lady          1\n",
       "Sir           1\n",
       "Mme           1\n",
       "Don           1\n",
       "Capt          1\n",
       "Countess      1\n",
       "Jonkheer      1\n",
       "Dona          1\n",
       "Name: name_titles, dtype: int64"
      ]
     },
     "execution_count": 32,
     "metadata": {},
     "output_type": "execute_result"
    }
   ],
   "source": [
    "data['name_titles'].value_counts()"
   ]
  },
  {
   "cell_type": "markdown",
   "metadata": {},
   "source": [
    "## Since most of titles have less than 5% of the total sample size, I chose to not consider it correlated with the target."
   ]
  },
  {
   "cell_type": "markdown",
   "metadata": {},
   "source": [
    "## Creating Baseline models"
   ]
  },
  {
   "cell_type": "markdown",
   "metadata": {},
   "source": [
    "Summary results:\n",
    "\n",
    "Logistic Regression (79.4%)\n",
    "\n",
    "Decision Tree (80.1%)\n",
    "\n",
    "Random Forest (81.2%)\n",
    "\n",
    "Xtreme Gradient Boosting (82.7%)\n",
    "\n",
    "Support Vector Classifier (82.1%)\n",
    "\n",
    "K Nearest Neighbor (80.0%)\n"
   ]
  },
  {
   "cell_type": "code",
   "execution_count": 33,
   "metadata": {},
   "outputs": [
    {
     "name": "stdout",
     "output_type": "stream",
     "text": [
      "<class 'pandas.core.frame.DataFrame'>\n",
      "RangeIndex: 891 entries, 0 to 890\n",
      "Data columns (total 13 columns):\n",
      " #   Column        Non-Null Count  Dtype  \n",
      "---  ------        --------------  -----  \n",
      " 0   PassengerId   891 non-null    int64  \n",
      " 1   Survived      891 non-null    int64  \n",
      " 2   Pclass        891 non-null    int64  \n",
      " 3   Name          891 non-null    object \n",
      " 4   Sex           891 non-null    object \n",
      " 5   Age           714 non-null    float64\n",
      " 6   SibSp         891 non-null    int64  \n",
      " 7   Parch         891 non-null    int64  \n",
      " 8   Ticket        891 non-null    object \n",
      " 9   Fare          891 non-null    float64\n",
      " 10  Embarked      889 non-null    object \n",
      " 11  Age_Rounded   714 non-null    float64\n",
      " 12  Fare_Rounded  891 non-null    float64\n",
      "dtypes: float64(4), int64(5), object(4)\n",
      "memory usage: 90.6+ KB\n"
     ]
    }
   ],
   "source": [
    "train_data_clean.info()"
   ]
  },
  {
   "cell_type": "markdown",
   "metadata": {},
   "source": [
    "## Pclass, SibSp, Parch and features are in the wrong data type, it could give to the model bias. (there are no order that you can infer for them)\n",
    "\n",
    "## I will create a new categorical feature with Age, using the same idea of biases from Pclass, SibSp, Parch and features."
   ]
  },
  {
   "cell_type": "code",
   "execution_count": 34,
   "metadata": {},
   "outputs": [],
   "source": [
    "train_data_clean['Pclass'] = pd.DataFrame(train_data_clean['Pclass'].astype('object'))\n",
    "test_data_clean['Pclass'] = pd.DataFrame(test_data_clean['Pclass'].astype('object'))\n",
    "train_data_clean['Parch'] = pd.DataFrame(train_data_clean['Parch'].astype('object'))\n",
    "test_data_clean['Parch'] = pd.DataFrame(test_data_clean['Parch'].astype('object'))\n",
    "\n",
    "def categorize_age(age):\n",
    "    if age < 18:\n",
    "        return 'Kid'\n",
    "    elif 18 <= age < 34:\n",
    "        return 'Adult'\n",
    "    elif 35 <= age <= 55:\n",
    "        return 'Mature Adult'\n",
    "    else:\n",
    "        return 'Elder'\n",
    "\n",
    "median_age = train_data_clean.Age.median()\n",
    "\n",
    "train_data_clean['Age'].fillna(median_age,inplace=True)\n",
    "test_data_clean['Age'].fillna(median_age,inplace=True)\n",
    "\n",
    "median_Fare = train_data_clean.Fare.median()\n",
    "test_data_clean['Fare'].fillna(median_Fare,inplace=True)\n",
    "\n",
    "train_data_clean['Age_cat'] = train_data_clean['Age'].apply(categorize_age)\n",
    "test_data_clean['Age_cat'] = test_data_clean['Age'].apply(categorize_age)\n",
    "\n",
    "def categorize_sibsp(sibsp):\n",
    "    if sibsp == 0:\n",
    "        return 'NoSibSp'\n",
    "    else:\n",
    "        return 'WithSibSp'\n",
    "\n",
    "def categorize_parch(sibsp):\n",
    "    if sibsp == 0:\n",
    "        return 'NoParch'\n",
    "    else:\n",
    "        return 'WithParch'\n",
    "\n",
    "\n",
    "train_data_clean['Parch'] = train_data_clean['Parch'].apply(categorize_parch)\n",
    "test_data_clean['Parch'] = test_data_clean['Parch'].apply(categorize_parch)\n",
    "\n",
    "train_data_clean['SibSp'] = train_data_clean['SibSp'].apply(categorize_sibsp)\n",
    "test_data_clean['SibSp'] = test_data_clean['SibSp'].apply(categorize_sibsp)"
   ]
  },
  {
   "cell_type": "code",
   "execution_count": 35,
   "metadata": {},
   "outputs": [],
   "source": [
    "from sklearn.linear_model import LogisticRegression\n",
    "from sklearn.tree import DecisionTreeClassifier\n",
    "from sklearn.ensemble import RandomForestClassifier\n",
    "import xgboost as xgb\n",
    "from sklearn.svm import SVC\n",
    "from sklearn.neighbors import KNeighborsClassifier\n",
    "from sklearn.model_selection import StratifiedKFold, cross_val_score, cross_validate\n",
    "from hyperopt import hp, tpe, fmin, Trials, space_eval\n",
    "from sklearn.preprocessing import StandardScaler, RobustScaler, OneHotEncoder, MaxAbsScaler\n",
    "from sklearn.pipeline import Pipeline\n",
    "from sklearn.metrics import classification_report, ConfusionMatrixDisplay, confusion_matrix\n",
    "from sklearn.impute import SimpleImputer"
   ]
  },
  {
   "cell_type": "code",
   "execution_count": 36,
   "metadata": {},
   "outputs": [],
   "source": [
    "x_train = train_data_clean.drop(columns=['Survived', 'Ticket','Age_Rounded','Name','PassengerId','Age','Fare_Rounded'])\n",
    "y_train = train_data_clean['Survived']"
   ]
  },
  {
   "cell_type": "code",
   "execution_count": 37,
   "metadata": {},
   "outputs": [],
   "source": [
    "x_test = test_data_clean.drop(columns=['Ticket','Name','PassengerId','Age'])\n"
   ]
  },
  {
   "cell_type": "code",
   "execution_count": 38,
   "metadata": {},
   "outputs": [],
   "source": [
    "preprocessing = Pipeline([('scaler', StandardScaler())])\n",
    "x_train = pd.get_dummies(x_train)\n",
    "x_test = pd.get_dummies(x_test)\n",
    "x_train_pp = preprocessing.fit_transform(x_train)\n",
    "x_test_pp = preprocessing.transform(x_test)"
   ]
  },
  {
   "cell_type": "code",
   "execution_count": 39,
   "metadata": {},
   "outputs": [
    {
     "data": {
      "text/plain": [
       "0     0\n",
       "1     0\n",
       "2     0\n",
       "3     0\n",
       "4     0\n",
       "5     0\n",
       "6     0\n",
       "7     0\n",
       "8     0\n",
       "9     0\n",
       "10    0\n",
       "11    0\n",
       "12    0\n",
       "13    0\n",
       "14    0\n",
       "15    0\n",
       "16    0\n",
       "dtype: int64"
      ]
     },
     "execution_count": 39,
     "metadata": {},
     "output_type": "execute_result"
    }
   ],
   "source": [
    "df=pd.DataFrame(x_train_pp)\n",
    "df.isna().sum()\n"
   ]
  },
  {
   "cell_type": "code",
   "execution_count": 40,
   "metadata": {},
   "outputs": [
    {
     "data": {
      "text/plain": [
       "0     0\n",
       "1     0\n",
       "2     0\n",
       "3     0\n",
       "4     0\n",
       "5     0\n",
       "6     0\n",
       "7     0\n",
       "8     0\n",
       "9     0\n",
       "10    0\n",
       "11    0\n",
       "12    0\n",
       "13    0\n",
       "14    0\n",
       "15    0\n",
       "16    0\n",
       "dtype: int64"
      ]
     },
     "execution_count": 40,
     "metadata": {},
     "output_type": "execute_result"
    }
   ],
   "source": [
    "df=pd.DataFrame(x_test_pp)\n",
    "df.isna().sum()\n"
   ]
  },
  {
   "cell_type": "code",
   "execution_count": 41,
   "metadata": {},
   "outputs": [],
   "source": [
    "x_test_pp = preprocessing.fit_transform(x_test)"
   ]
  },
  {
   "cell_type": "code",
   "execution_count": 42,
   "metadata": {},
   "outputs": [],
   "source": [
    "kf5= StratifiedKFold(n_splits=5, shuffle=True, random_state=42)"
   ]
  },
  {
   "cell_type": "code",
   "execution_count": 43,
   "metadata": {},
   "outputs": [],
   "source": [
    "base_pipe_lr = Pipeline([('model', LogisticRegression())])\n",
    "\n",
    "base_pipe_dt = Pipeline([('model', DecisionTreeClassifier())])\n",
    "\n",
    "base_pipe_rf = Pipeline([('model', RandomForestClassifier())])\n",
    "\n",
    "base_pipe_xgb = Pipeline([('model', xgb.XGBClassifier())])\n",
    "\n",
    "base_pipe_svc = Pipeline([('model', SVC())])\n",
    "\n",
    "base_pipe_knn = Pipeline([('model', KNeighborsClassifier())])"
   ]
  },
  {
   "cell_type": "code",
   "execution_count": 44,
   "metadata": {},
   "outputs": [
    {
     "name": "stdout",
     "output_type": "stream",
     "text": [
      "[0.79329609 0.79775281 0.80898876 0.76966292 0.80337079]\n",
      "0.7946142740568702\n"
     ]
    }
   ],
   "source": [
    "cv = cross_val_score(estimator=base_pipe_lr, X=x_train_pp, y=y_train, cv=kf5)\n",
    "print(cv)\n",
    "print(cv.mean())"
   ]
  },
  {
   "cell_type": "code",
   "execution_count": 45,
   "metadata": {},
   "outputs": [
    {
     "name": "stdout",
     "output_type": "stream",
     "text": [
      "[0.80446927 0.82022472 0.79775281 0.79213483 0.78651685]\n",
      "0.8002196974452325\n"
     ]
    }
   ],
   "source": [
    "cv = cross_val_score(estimator=base_pipe_dt, X=x_train_pp, y=y_train, cv=kf5)\n",
    "print(cv)\n",
    "print(cv.mean())"
   ]
  },
  {
   "cell_type": "code",
   "execution_count": 46,
   "metadata": {},
   "outputs": [
    {
     "name": "stdout",
     "output_type": "stream",
     "text": [
      "[0.80446927 0.79775281 0.80898876 0.8258427  0.83146067]\n",
      "0.8137028435126483\n"
     ]
    }
   ],
   "source": [
    "cv = cross_val_score(estimator=base_pipe_rf, X=x_train_pp, y=y_train, cv=kf5)\n",
    "print(cv)\n",
    "print(cv.mean())"
   ]
  },
  {
   "cell_type": "code",
   "execution_count": 47,
   "metadata": {},
   "outputs": [
    {
     "name": "stdout",
     "output_type": "stream",
     "text": [
      "[0.82681564 0.8258427  0.82022472 0.83707865 0.8258427 ]\n",
      "0.8271608813006088\n"
     ]
    }
   ],
   "source": [
    "cv = cross_val_score(estimator=base_pipe_xgb, X=x_train_pp, y=y_train, cv=kf5)\n",
    "print(cv)\n",
    "print(cv.mean())"
   ]
  },
  {
   "cell_type": "code",
   "execution_count": 48,
   "metadata": {},
   "outputs": [
    {
     "name": "stdout",
     "output_type": "stream",
     "text": [
      "[0.84357542 0.81460674 0.79775281 0.8258427  0.8258427 ]\n",
      "0.8215240725629277\n"
     ]
    }
   ],
   "source": [
    "cv = cross_val_score(estimator=base_pipe_svc, X=x_train_pp, y=y_train, cv=kf5)\n",
    "print(cv)\n",
    "print(cv.mean())"
   ]
  },
  {
   "cell_type": "code",
   "execution_count": 49,
   "metadata": {},
   "outputs": [
    {
     "name": "stdout",
     "output_type": "stream",
     "text": [
      "[0.78212291 0.83707865 0.76966292 0.8258427  0.78651685]\n",
      "0.8002448057246877\n"
     ]
    }
   ],
   "source": [
    "cv = cross_val_score(estimator=base_pipe_knn, X=x_train_pp, y=y_train, cv=kf5)\n",
    "print(cv)\n",
    "print(cv.mean())"
   ]
  },
  {
   "cell_type": "markdown",
   "metadata": {},
   "source": [
    "## Tuning parameters using Bayesian optimization"
   ]
  },
  {
   "cell_type": "code",
   "execution_count": 50,
   "metadata": {},
   "outputs": [
    {
     "name": "stdout",
     "output_type": "stream",
     "text": [
      "100%|██████████| 100/100 [00:04<00:00, 20.56trial/s, best loss: -0.7946142740568702]\n"
     ]
    }
   ],
   "source": [
    "hps_space_lr = {'C': hp.choice('C', np.arange(0.3, 1, 0.05)),\n",
    "                'penalty': hp.choice('penalty',['l1','l2','elasticnet'])}\n",
    "\n",
    "def obejctive_function_lr(hps_space): \n",
    "    pipe = Pipeline([('model', LogisticRegression(**hps_space))])\n",
    "\n",
    "    splitter = StratifiedKFold(n_splits=5, random_state=42, shuffle=True)\n",
    "\n",
    "    resultado = cross_validate(pipe,\n",
    "                           x_train_pp, y_train, \n",
    "                           cv=splitter,\n",
    "                           scoring=\"accuracy\",\n",
    "                           n_jobs=-1\n",
    "                           )\n",
    "\n",
    "    avg_acc = resultado[\"test_score\"].mean()\n",
    "    \n",
    "    return -avg_acc\n",
    "trials = Trials()\n",
    "\n",
    "best_hps_lr = fmin(obejctive_function_lr, # objective function\n",
    "                   space=hps_space_lr, # parameter space\n",
    "                   algo=tpe.suggest, # tpe to surrogate\n",
    "                   trials=trials, # trials to register the history\n",
    "                   rstate=np.random.default_rng(42), # randomseed\n",
    "                   max_evals=100) # evaluation max number"
   ]
  },
  {
   "cell_type": "code",
   "execution_count": 51,
   "metadata": {},
   "outputs": [],
   "source": [
    "best_hps_lr = space_eval(hps_space_lr, best_hps_lr)"
   ]
  },
  {
   "cell_type": "code",
   "execution_count": 52,
   "metadata": {},
   "outputs": [
    {
     "name": "stdout",
     "output_type": "stream",
     "text": [
      "100%|██████████| 100/100 [00:01<00:00, 74.96trial/s, best loss: -0.8080911430544221]\n"
     ]
    }
   ],
   "source": [
    "hps_space_dt = {'max_depth': hp.choice('max_depth', range(5, 25, 1)),\n",
    "                'criterion': hp.choice('criterion',['gini','entropy'])}\n",
    "\n",
    "def obejctive_function_dt(hps_space): \n",
    "    pipe = Pipeline([('model', DecisionTreeClassifier())])\n",
    "\n",
    "    splitter = StratifiedKFold(n_splits=5, random_state=42, shuffle=True)\n",
    "\n",
    "    resultado = cross_validate(pipe,\n",
    "                           x_train_pp, y_train, \n",
    "                           cv=splitter,\n",
    "                           scoring=\"accuracy\",\n",
    "                           n_jobs=-1\n",
    "                           )\n",
    "\n",
    "    avg_acc = resultado[\"test_score\"].mean()\n",
    "    \n",
    "    return -avg_acc\n",
    "trials = Trials()\n",
    "\n",
    "best_hps_dt = fmin(obejctive_function_dt,\n",
    "                    space=hps_space_dt,\n",
    "                    algo=tpe.suggest,\n",
    "                    trials=trials,\n",
    "                    rstate=np.random.default_rng(42),\n",
    "                    max_evals=100)"
   ]
  },
  {
   "cell_type": "code",
   "execution_count": 53,
   "metadata": {},
   "outputs": [],
   "source": [
    "best_hps_dt = space_eval(hps_space_dt, best_hps_dt)"
   ]
  },
  {
   "cell_type": "code",
   "execution_count": 54,
   "metadata": {},
   "outputs": [
    {
     "name": "stdout",
     "output_type": "stream",
     "text": [
      "100%|██████████| 100/100 [00:19<00:00,  5.24trial/s, best loss: -0.8215491808423827]\n"
     ]
    }
   ],
   "source": [
    "hps_space_rf = {'max_depth': hp.choice('max_depth', range(5, 25, 1)),\n",
    "                'criterion': hp.choice('criterion',['gini','entropy']),\n",
    "                'n_estimators': hp.choice('n_estimators',range(50, 300, 10))}\n",
    "\n",
    "def obejctive_function_rf(hps_space): \n",
    "    pipe = Pipeline([('model', RandomForestClassifier())])\n",
    "\n",
    "    splitter = StratifiedKFold(n_splits=5, random_state=42, shuffle=True)\n",
    "\n",
    "    resultado = cross_validate(pipe,\n",
    "                           x_train_pp, y_train, \n",
    "                           cv=splitter,\n",
    "                           scoring=\"accuracy\",\n",
    "                           n_jobs=-1\n",
    "                           )\n",
    "\n",
    "    avg_acc = resultado[\"test_score\"].mean()\n",
    "    \n",
    "    return -avg_acc\n",
    "trials = Trials()\n",
    "\n",
    "best_hps_rf = fmin(obejctive_function_rf,\n",
    "                    space=hps_space_rf,\n",
    "                    algo=tpe.suggest,\n",
    "                    trials=trials,\n",
    "                    rstate=np.random.default_rng(42),\n",
    "                    max_evals=100)"
   ]
  },
  {
   "cell_type": "code",
   "execution_count": 55,
   "metadata": {},
   "outputs": [],
   "source": [
    "best_hps_rf = space_eval(hps_space_rf, best_hps_rf)"
   ]
  },
  {
   "cell_type": "code",
   "execution_count": 56,
   "metadata": {},
   "outputs": [
    {
     "name": "stdout",
     "output_type": "stream",
     "text": [
      "100%|██████████| 100/100 [00:09<00:00, 10.19trial/s, best loss: -0.8271608813006088]\n"
     ]
    }
   ],
   "source": [
    "hps_space_xgb = {'max_depth': hp.choice('max_depth', range(5, 25, 1)),\n",
    "                 'gamma': hp.choice('gamma',np.arange(0, 50, 1)),\n",
    "                 'eta': hp.choice('eta', np.arange(0, 1, 0.5))}\n",
    "\n",
    "def obejctive_function_xgb(hps_space): \n",
    "    pipe = Pipeline([('model', xgb.XGBClassifier(booster='gbtree'))])\n",
    "\n",
    "    splitter = StratifiedKFold(n_splits=5, random_state=42, shuffle=True)\n",
    "\n",
    "    resultado = cross_validate(pipe,\n",
    "                           x_train_pp, y_train, \n",
    "                           cv=splitter,\n",
    "                           scoring=\"accuracy\",\n",
    "                           n_jobs=-1\n",
    "                           )\n",
    "\n",
    "    avg_acc = resultado[\"test_score\"].mean()\n",
    "    \n",
    "    return -avg_acc\n",
    "trials = Trials()\n",
    "\n",
    "best_hps_xgb = fmin(obejctive_function_xgb,\n",
    "                    space=hps_space_xgb,\n",
    "                    algo=tpe.suggest,\n",
    "                    trials=trials,\n",
    "                    rstate=np.random.default_rng(42),\n",
    "                    max_evals=100)"
   ]
  },
  {
   "cell_type": "code",
   "execution_count": 57,
   "metadata": {},
   "outputs": [],
   "source": [
    "best_hps_xgb = space_eval(hps_space_xgb, best_hps_xgb)"
   ]
  },
  {
   "cell_type": "code",
   "execution_count": 58,
   "metadata": {},
   "outputs": [
    {
     "name": "stdout",
     "output_type": "stream",
     "text": [
      "100%|██████████| 100/100 [00:03<00:00, 26.05trial/s, best loss: -0.8215240725629277]\n"
     ]
    }
   ],
   "source": [
    "hps_space_svc = {'C': hp.choice('C', np.arange(0.3, 1, 0.05)),\n",
    "                 'kernel': hp.choice('kernel',['poly','linear','rbf','sigmoid','precomputed']),\n",
    "                 'degree': hp.choice('degree', range(2,8,1))}\n",
    "\n",
    "def obejctive_function_svc(hps_space): \n",
    "    pipe = Pipeline([('model', SVC())])\n",
    "\n",
    "    splitter = StratifiedKFold(n_splits=5, random_state=42, shuffle=True)\n",
    "\n",
    "    resultado = cross_validate(pipe,\n",
    "                           x_train_pp, y_train, \n",
    "                           cv=splitter,\n",
    "                           scoring=\"accuracy\",\n",
    "                           n_jobs=-1\n",
    "                           )\n",
    "\n",
    "    avg_acc = resultado[\"test_score\"].mean()\n",
    "    \n",
    "    return -avg_acc\n",
    "trials = Trials()\n",
    "\n",
    "best_hps_svc = fmin(obejctive_function_svc,\n",
    "                    space=hps_space_svc,\n",
    "                    algo=tpe.suggest,\n",
    "                    trials=trials,\n",
    "                    rstate=np.random.default_rng(42),\n",
    "                    max_evals=100)"
   ]
  },
  {
   "cell_type": "code",
   "execution_count": 59,
   "metadata": {},
   "outputs": [],
   "source": [
    "best_hps_svc = space_eval(hps_space_svc, best_hps_svc)"
   ]
  },
  {
   "cell_type": "code",
   "execution_count": 60,
   "metadata": {},
   "outputs": [
    {
     "name": "stdout",
     "output_type": "stream",
     "text": [
      "100%|██████████| 100/100 [00:02<00:00, 44.21trial/s, best loss: -0.8002448057246877]\n"
     ]
    }
   ],
   "source": [
    "hps_space_knn = {'n_neighbors': hp.choice('n_neighbors', range(5, 25, 1)),\n",
    "                 'weights': hp.choice('weights',['uniform','distance']),\n",
    "                 'algorithm': hp.choice('algorithm',['brute']),\n",
    "                 'metric': hp.choice('metric',['euclidean', 'l2', 'minkowski', 'p', 'manhattan', 'cityblock', 'l1', 'chebyshev', 'infinity'])}\n",
    "\n",
    "def obejctive_function_knn(hps_space): \n",
    "    pipe = Pipeline([('model', KNeighborsClassifier())])\n",
    "\n",
    "    splitter = StratifiedKFold(n_splits=5, random_state=42, shuffle=True)\n",
    "\n",
    "    resultado = cross_validate(pipe,\n",
    "                           x_train_pp, y_train, \n",
    "                           cv=splitter,\n",
    "                           scoring=\"accuracy\",\n",
    "                           n_jobs=-1\n",
    "                           )\n",
    "\n",
    "    avg_acc = resultado[\"test_score\"].mean()\n",
    "    \n",
    "    return -avg_acc\n",
    "trials = Trials()\n",
    "\n",
    "best_hps_knn = fmin(obejctive_function_knn,\n",
    "                    space=hps_space_knn,\n",
    "                    algo=tpe.suggest,\n",
    "                    trials=trials,\n",
    "                    rstate=np.random.default_rng(42),\n",
    "                    max_evals=100)"
   ]
  },
  {
   "cell_type": "code",
   "execution_count": 61,
   "metadata": {},
   "outputs": [],
   "source": [
    "best_hps_knn = space_eval(hps_space_knn, best_hps_knn)"
   ]
  },
  {
   "cell_type": "code",
   "execution_count": 62,
   "metadata": {},
   "outputs": [
    {
     "data": {
      "text/plain": [
       "{'C': 0.5499999999999999, 'penalty': 'l2'}"
      ]
     },
     "execution_count": 62,
     "metadata": {},
     "output_type": "execute_result"
    }
   ],
   "source": [
    "best_hps_lr"
   ]
  },
  {
   "cell_type": "code",
   "execution_count": 63,
   "metadata": {},
   "outputs": [
    {
     "data": {
      "text/plain": [
       "{'criterion': 'entropy', 'max_depth': 14}"
      ]
     },
     "execution_count": 63,
     "metadata": {},
     "output_type": "execute_result"
    }
   ],
   "source": [
    "best_hps_dt"
   ]
  },
  {
   "cell_type": "code",
   "execution_count": 64,
   "metadata": {},
   "outputs": [
    {
     "data": {
      "text/plain": [
       "{'criterion': 'gini', 'max_depth': 14, 'n_estimators': 140}"
      ]
     },
     "execution_count": 64,
     "metadata": {},
     "output_type": "execute_result"
    }
   ],
   "source": [
    "best_hps_rf"
   ]
  },
  {
   "cell_type": "code",
   "execution_count": 65,
   "metadata": {},
   "outputs": [
    {
     "data": {
      "text/plain": [
       "{'eta': 0.5, 'gamma': 40, 'max_depth': 5}"
      ]
     },
     "execution_count": 65,
     "metadata": {},
     "output_type": "execute_result"
    }
   ],
   "source": [
    "best_hps_xgb"
   ]
  },
  {
   "cell_type": "code",
   "execution_count": 66,
   "metadata": {},
   "outputs": [
    {
     "data": {
      "text/plain": [
       "{'C': 0.7499999999999999, 'degree': 6, 'kernel': 'poly'}"
      ]
     },
     "execution_count": 66,
     "metadata": {},
     "output_type": "execute_result"
    }
   ],
   "source": [
    "best_hps_svc"
   ]
  },
  {
   "cell_type": "code",
   "execution_count": 67,
   "metadata": {},
   "outputs": [
    {
     "data": {
      "text/plain": [
       "{'algorithm': 'brute',\n",
       " 'metric': 'cityblock',\n",
       " 'n_neighbors': 21,\n",
       " 'weights': 'uniform'}"
      ]
     },
     "execution_count": 67,
     "metadata": {},
     "output_type": "execute_result"
    }
   ],
   "source": [
    "best_hps_knn"
   ]
  },
  {
   "cell_type": "code",
   "execution_count": 68,
   "metadata": {},
   "outputs": [],
   "source": [
    "base_pipe_lr = Pipeline([('model', LogisticRegression(**best_hps_lr))])\n",
    "\n",
    "base_pipe_dt = Pipeline([('model', DecisionTreeClassifier(**best_hps_dt))])\n",
    "\n",
    "base_pipe_rf = Pipeline([('model', RandomForestClassifier(**best_hps_rf))])\n",
    "\n",
    "base_pipe_xgb = Pipeline([('model', xgb.XGBClassifier(**best_hps_xgb))])\n",
    "\n",
    "base_pipe_svc = Pipeline([('model', SVC(**best_hps_svc, probability=True))])\n",
    "\n",
    "base_pipe_knn = Pipeline([('model', KNeighborsClassifier(**best_hps_knn))])"
   ]
  },
  {
   "cell_type": "code",
   "execution_count": 69,
   "metadata": {},
   "outputs": [
    {
     "name": "stdout",
     "output_type": "stream",
     "text": [
      "[0.79329609 0.79775281 0.80898876 0.76966292 0.80337079]\n",
      "0.7946142740568702\n"
     ]
    }
   ],
   "source": [
    "cv = cross_val_score(estimator=base_pipe_lr, X=x_train_pp, y=y_train, cv=kf5)\n",
    "print(cv)\n",
    "print(cv.mean())"
   ]
  },
  {
   "cell_type": "code",
   "execution_count": 70,
   "metadata": {},
   "outputs": [
    {
     "name": "stdout",
     "output_type": "stream",
     "text": [
      "[0.79888268 0.81460674 0.79775281 0.80898876 0.78651685]\n",
      "0.8013495700207143\n"
     ]
    }
   ],
   "source": [
    "cv = cross_val_score(estimator=base_pipe_dt, X=x_train_pp, y=y_train, cv=kf5)\n",
    "print(cv)\n",
    "print(cv.mean())"
   ]
  },
  {
   "cell_type": "code",
   "execution_count": 71,
   "metadata": {},
   "outputs": [
    {
     "name": "stdout",
     "output_type": "stream",
     "text": [
      "[0.81564246 0.82022472 0.80337079 0.8258427  0.83146067]\n",
      "0.8193082669010107\n"
     ]
    }
   ],
   "source": [
    "cv = cross_val_score(estimator=base_pipe_rf, X=x_train_pp, y=y_train, cv=kf5)\n",
    "print(cv)\n",
    "print(cv.mean())"
   ]
  },
  {
   "cell_type": "code",
   "execution_count": 72,
   "metadata": {},
   "outputs": [
    {
     "name": "stdout",
     "output_type": "stream",
     "text": [
      "[0.7877095  0.7752809  0.78651685 0.76404494 0.82022472]\n",
      "0.7867553825874082\n"
     ]
    }
   ],
   "source": [
    "cv = cross_val_score(estimator=base_pipe_xgb, X=x_train_pp, y=y_train, cv=kf5)\n",
    "print(cv)\n",
    "print(cv.mean())"
   ]
  },
  {
   "cell_type": "code",
   "execution_count": 73,
   "metadata": {},
   "outputs": [
    {
     "name": "stdout",
     "output_type": "stream",
     "text": [
      "[0.78212291 0.80337079 0.78651685 0.80337079 0.82022472]\n",
      "0.7991212102190698\n"
     ]
    }
   ],
   "source": [
    "cv = cross_val_score(estimator=base_pipe_svc, X=x_train_pp, y=y_train, cv=kf5)\n",
    "print(cv)\n",
    "print(cv.mean())"
   ]
  },
  {
   "cell_type": "code",
   "execution_count": 74,
   "metadata": {},
   "outputs": [
    {
     "name": "stdout",
     "output_type": "stream",
     "text": [
      "[0.75418994 0.79213483 0.78089888 0.78089888 0.79213483]\n",
      "0.780051471972883\n"
     ]
    }
   ],
   "source": [
    "cv = cross_val_score(estimator=base_pipe_knn, X=x_train_pp, y=y_train, cv=kf5)\n",
    "print(cv)\n",
    "print(cv.mean())"
   ]
  },
  {
   "cell_type": "markdown",
   "metadata": {},
   "source": [
    "## Ensemble"
   ]
  },
  {
   "cell_type": "code",
   "execution_count": 75,
   "metadata": {},
   "outputs": [],
   "source": [
    "from sklearn.ensemble import VotingClassifier\n",
    "\n",
    "ensemble_all = VotingClassifier([('rf',base_pipe_rf),\n",
    "                                 ('lr',base_pipe_lr),     \n",
    "                                 ('knn',base_pipe_knn),\n",
    "                                 ('xgb',base_pipe_xgb),                               \n",
    "                                 ('dt',base_pipe_dt),                           \n",
    "                                 ('svc',base_pipe_svc)]\n",
    "                                 ,voting='soft')"
   ]
  },
  {
   "cell_type": "code",
   "execution_count": 76,
   "metadata": {},
   "outputs": [
    {
     "name": "stdout",
     "output_type": "stream",
     "text": [
      "[0.83240223 0.85393258 0.80898876 0.8258427  0.8258427 ]\n",
      "0.8294017952419811\n"
     ]
    }
   ],
   "source": [
    "cv = cross_val_score(estimator=ensemble_all, X=x_train_pp, y=y_train, cv=kf5)\n",
    "print(cv)\n",
    "print(cv.mean())"
   ]
  },
  {
   "cell_type": "code",
   "execution_count": 77,
   "metadata": {},
   "outputs": [],
   "source": [
    "ensemble_all_hard = VotingClassifier([('rf',base_pipe_rf),\n",
    "                                      ('lr',base_pipe_lr),     \n",
    "                                      ('knn',base_pipe_knn),\n",
    "                                      ('xgb',base_pipe_xgb),                               \n",
    "                                      ('dt',base_pipe_dt),                           \n",
    "                                      ('svc',base_pipe_svc)],voting='hard')"
   ]
  },
  {
   "cell_type": "code",
   "execution_count": 78,
   "metadata": {},
   "outputs": [
    {
     "name": "stdout",
     "output_type": "stream",
     "text": [
      "[0.82681564 0.83707865 0.80898876 0.83707865 0.8258427 ]\n",
      "0.8271608813006088\n"
     ]
    }
   ],
   "source": [
    "cv = cross_val_score(estimator=ensemble_all_hard, X=x_train_pp, y=y_train, cv=kf5)\n",
    "print(cv)\n",
    "print(cv.mean())"
   ]
  },
  {
   "cell_type": "code",
   "execution_count": 79,
   "metadata": {},
   "outputs": [],
   "source": [
    "ensemble_all_best = VotingClassifier([('rf',base_pipe_rf),\n",
    "                                      ('lr',base_pipe_lr),                                   \n",
    "                                      ('dt',base_pipe_dt),                           \n",
    "                                      ('svc',base_pipe_svc)]\n",
    "                                      ,voting='soft')"
   ]
  },
  {
   "cell_type": "code",
   "execution_count": 80,
   "metadata": {},
   "outputs": [
    {
     "name": "stdout",
     "output_type": "stream",
     "text": [
      "[0.83240223 0.84831461 0.80898876 0.84269663 0.81460674]\n",
      "0.8294017952419811\n"
     ]
    }
   ],
   "source": [
    "cv = cross_val_score(estimator=ensemble_all_best, X=x_train_pp, y=y_train, cv=kf5)\n",
    "print(cv)\n",
    "print(cv.mean())"
   ]
  },
  {
   "cell_type": "code",
   "execution_count": 81,
   "metadata": {},
   "outputs": [
    {
     "data": {
      "text/plain": [
       "VotingClassifier(estimators=[('rf',\n",
       "                              Pipeline(steps=[('model',\n",
       "                                               RandomForestClassifier(max_depth=14,\n",
       "                                                                      n_estimators=140))])),\n",
       "                             ('lr',\n",
       "                              Pipeline(steps=[('model',\n",
       "                                               LogisticRegression(C=0.5499999999999999))])),\n",
       "                             ('knn',\n",
       "                              Pipeline(steps=[('model',\n",
       "                                               KNeighborsClassifier(algorithm='brute',\n",
       "                                                                    metric='cityblock',\n",
       "                                                                    n_neighbors=21))])),\n",
       "                             ('xgb',\n",
       "                              Pipeline(steps=[('model',\n",
       "                                               XGBClassifier(...\n",
       "                                                             max_leaves=None,\n",
       "                                                             min_child_weight=None,\n",
       "                                                             missing=nan,\n",
       "                                                             monotone_constraints=None,\n",
       "                                                             n_estimators=100,\n",
       "                                                             n_jobs=None,\n",
       "                                                             num_parallel_tree=None,\n",
       "                                                             predictor=None, ...))])),\n",
       "                             ('dt',\n",
       "                              Pipeline(steps=[('model',\n",
       "                                               DecisionTreeClassifier(criterion='entropy',\n",
       "                                                                      max_depth=14))])),\n",
       "                             ('svc',\n",
       "                              Pipeline(steps=[('model',\n",
       "                                               SVC(C=0.7499999999999999,\n",
       "                                                   degree=6, kernel='poly',\n",
       "                                                   probability=True))]))],\n",
       "                 voting='soft')"
      ]
     },
     "execution_count": 81,
     "metadata": {},
     "output_type": "execute_result"
    }
   ],
   "source": [
    "ensemble_all.fit(x_train_pp,y_train)"
   ]
  },
  {
   "cell_type": "markdown",
   "metadata": {},
   "source": [
    "## Ensemble results\n",
    "soft voting + every model (82.7%)\n",
    "\n",
    "hard voting + every model (82.1%)\n",
    "\n",
    "soft voting + without svc and xgboost (82.9%)\n",
    "\n",
    "\n",
    "\n",
    "## The best model was the ensemble with soft voting without svc and xgboost, scoring 82.9% of right predictions"
   ]
  },
  {
   "cell_type": "code",
   "execution_count": 82,
   "metadata": {},
   "outputs": [],
   "source": [
    "y_hat_ensemble = ensemble_all.predict(x_test_pp)\n",
    "\n",
    "results_df = pd.DataFrame({\n",
    "    'PassengerId': test_data['PassengerId'],\n",
    "    'Survived': y_hat_ensemble \n",
    "})\n",
    "\n",
    "results_df.to_csv('submission.csv', index=False)"
   ]
  },
  {
   "cell_type": "code",
   "execution_count": 83,
   "metadata": {},
   "outputs": [
    {
     "data": {
      "text/plain": [
       "array([0, 0, 0, 0, 0, 0, 0, 0, 0, 0, 0, 0, 1, 0, 1, 1, 0, 0, 0, 1, 1, 0,\n",
       "       1, 0, 1, 0, 1, 0, 0, 0, 0, 0, 0, 0, 1, 0, 1, 0, 0, 0, 0, 0, 0, 1,\n",
       "       1, 0, 1, 0, 1, 0, 0, 0, 1, 1, 0, 0, 0, 0, 0, 1, 0, 0, 0, 0, 1, 1,\n",
       "       0, 0, 0, 1, 0, 0, 0, 0, 1, 0, 0, 1, 0, 0, 0, 0, 0, 0, 0, 0, 0, 1,\n",
       "       0, 1, 1, 0, 1, 0, 0, 0, 1, 0, 1, 0, 1, 0, 0, 0, 1, 0, 0, 0, 0, 0,\n",
       "       0, 0, 1, 0, 1, 0, 0, 1, 0, 1, 1, 0, 1, 0, 0, 1, 0, 1, 0, 0, 0, 0,\n",
       "       1, 0, 0, 0, 0, 0, 1, 0, 0, 1, 0, 0, 0, 0, 0, 0, 0, 0, 1, 0, 0, 0,\n",
       "       0, 0, 1, 1, 0, 1, 0, 0, 1, 0, 0, 0, 0, 0, 1, 0, 0, 0, 0, 0, 0, 1,\n",
       "       1, 1, 1, 1, 0, 0, 1, 0, 1, 0, 1, 0, 0, 0, 0, 0, 0, 0, 1, 0, 1, 1,\n",
       "       0, 1, 1, 1, 0, 1, 0, 0, 1, 0, 1, 0, 0, 0, 0, 1, 0, 0, 0, 0, 1, 0,\n",
       "       1, 0, 1, 0, 1, 0, 0, 0, 0, 0, 0, 1, 0, 0, 1, 0, 1, 0, 1, 1, 1, 1,\n",
       "       0, 0, 0, 0, 1, 0, 1, 0, 1, 0, 0, 0, 0, 0, 0, 0, 1, 0, 0, 0, 1, 1,\n",
       "       0, 0, 0, 0, 1, 0, 0, 0, 1, 1, 0, 1, 0, 0, 0, 0, 0, 0, 0, 1, 0, 0,\n",
       "       0, 0, 0, 0, 0, 0, 0, 0, 0, 0, 1, 0, 0, 0, 0, 0, 0, 0, 0, 1, 0, 1,\n",
       "       0, 0, 0, 0, 0, 1, 1, 1, 1, 0, 0, 0, 0, 0, 0, 0, 1, 0, 1, 0, 0, 0,\n",
       "       1, 1, 0, 0, 0, 0, 0, 0, 0, 0, 0, 0, 0, 1, 0, 1, 0, 1, 0, 1, 1, 0,\n",
       "       0, 0, 0, 0, 1, 0, 0, 0, 0, 1, 1, 0, 1, 0, 0, 1, 1, 0, 0, 1, 0, 0,\n",
       "       1, 1, 0, 0, 0, 0, 0, 0, 0, 0, 0, 1, 0, 0, 0, 0, 0, 1, 1, 0, 0, 1,\n",
       "       0, 1, 0, 0, 1, 0, 1, 0, 0, 0, 0, 0, 0, 1, 0, 1, 1, 0, 1, 0, 0, 0],\n",
       "      dtype=int64)"
      ]
     },
     "execution_count": 83,
     "metadata": {},
     "output_type": "execute_result"
    }
   ],
   "source": [
    "y_hat_ensemble"
   ]
  },
  {
   "cell_type": "code",
   "execution_count": null,
   "metadata": {},
   "outputs": [],
   "source": []
  }
 ],
 "metadata": {
  "kernelspec": {
   "display_name": "base",
   "language": "python",
   "name": "python3"
  },
  "language_info": {
   "codemirror_mode": {
    "name": "ipython",
    "version": 3
   },
   "file_extension": ".py",
   "mimetype": "text/x-python",
   "name": "python",
   "nbconvert_exporter": "python",
   "pygments_lexer": "ipython3",
   "version": "3.9.7"
  },
  "orig_nbformat": 4
 },
 "nbformat": 4,
 "nbformat_minor": 2
}
